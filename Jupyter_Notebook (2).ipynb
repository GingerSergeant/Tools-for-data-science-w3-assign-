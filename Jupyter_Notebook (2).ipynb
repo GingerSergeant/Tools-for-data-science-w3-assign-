{
 "cells": [
  {
   "cell_type": "markdown",
   "metadata": {},
   "source": [
    "<center>\n",
    "    <img src=\"https://s3-api.us-geo.objectstorage.softlayer.net/cf-courses-data/CognitiveClass/Logos/organization_logo/organization_logo.png\" width=\"300\" alt=\"cognitiveclass.ai logo\"  />\n",
    "</center>\n"
   ]
  },
  {
   "cell_type": "markdown",
   "metadata": {},
   "source": [
    "#### Add your code below following the instructions given in the course\n"
   ]
  },
  {
   "cell_type": "markdown",
   "metadata": {},
   "source": [
    "# My jupyter notebook in IBM Watson Studio"
   ]
  },
  {
   "cell_type": "markdown",
   "metadata": {},
   "source": [
    "Name: **José Solla**\n",
    "\n",
    "Ocupation: Biomedical Engineering student"
   ]
  },
  {
   "cell_type": "markdown",
   "metadata": {},
   "source": [
    "*I am interested in Data Science as it is becoming of great importance in most areas such as my own (biomedical engineering). Additionally, I also quite enjoy programing subjects.*"
   ]
  },
  {
   "cell_type": "markdown",
   "metadata": {},
   "source": [
    "### My code in cell 5 will add will add two numeric variables, create a new variable with that value and print that variable."
   ]
  },
  {
   "cell_type": "code",
   "execution_count": 6,
   "metadata": {},
   "outputs": [
    {
     "name": "stdout",
     "output_type": "stream",
     "text": [
      "x + y = 7\n"
     ]
    }
   ],
   "source": [
    "x=2\n",
    "y=5\n",
    "z=x+y\n",
    "print('x + y =',z)"
   ]
  },
  {
   "cell_type": "markdown",
   "metadata": {},
   "source": [
    "# Numbered list:\n",
    "\n",
    "1. First section\n",
    "2. Second section\n",
    "3. Third section\n",
    "\n",
    "# External link:\n",
    "\n",
    "Google website:\n",
    "\n",
    "\n",
    "(www.google.com)\n",
    "\n",
    "# Table:\n",
    "\n",
    "| First variable | Second variable | Third variable |\n",
    "| --- | --- | --- |\n",
    "| Value1 | Value2 | Value3 |"
   ]
  }
 ],
 "metadata": {
  "kernelspec": {
   "display_name": "Python",
   "language": "python",
   "name": "conda-env-python-py"
  },
  "language_info": {
   "codemirror_mode": {
    "name": "ipython",
    "version": 3
   },
   "file_extension": ".py",
   "mimetype": "text/x-python",
   "name": "python",
   "nbconvert_exporter": "python",
   "pygments_lexer": "ipython3",
   "version": "3.7.12"
  }
 },
 "nbformat": 4,
 "nbformat_minor": 4
}
